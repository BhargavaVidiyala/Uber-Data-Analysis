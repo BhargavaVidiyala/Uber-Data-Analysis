{
 "cells": [
  {
   "cell_type": "markdown",
   "id": "contrary-prediction",
   "metadata": {
    "papermill": {
     "duration": 0.023394,
     "end_time": "2021-02-12T19:53:15.557950",
     "exception": false,
     "start_time": "2021-02-12T19:53:15.534556",
     "status": "completed"
    },
    "tags": []
   },
   "source": [
    "# Uber Data Analysis through Visualisations in R\n",
    "\n",
    "Data storytelling is an important component of Machine Learning through which companies are able to understand the background of various operations. With the help of visualization, companies can avail the benefit of understanding the complex data and gain insights that would help them to craft decisions. This is more of a data visualization project that will guide you towards using the ggplot2 library for understanding the data and for developing an intuition for understanding the customers who avail the trips.\n",
    "\n",
    "**Important**: The goal of this project is to learn visualisations in R. I do not claim copyright over any of the content here. \n",
    "\n",
    "Source: [here](https://data-flair.training/blogs/r-data-science-project-uber-data-analysis/)"
   ]
  },
  {
   "cell_type": "markdown",
   "id": "liquid-roman",
   "metadata": {
    "papermill": {
     "duration": 0.022634,
     "end_time": "2021-02-12T19:53:15.602745",
     "exception": false,
     "start_time": "2021-02-12T19:53:15.580111",
     "status": "completed"
    },
    "tags": []
   },
   "source": [
    "### Importing necessary libraries\n",
    "\n",
    "1. **gplot2**: ggplot2 is the most popular data visualization library that is most widely used for creating aesthetic visualization plots.\n",
    "2. **lubridate**: Use time-frames in the dataset\n",
    "3. **dplyr**: Data Manipulation\n",
    "4. **tidyr**: Tidy the data\n",
    "5. **DT**: Datatables in JS\n",
    "6. **scales**: With the help of graphical scales, we can automatically map the data to the correct scales with well-placed axes and legends."
   ]
  },
  {
   "cell_type": "code",
   "execution_count": null,
   "id": "rubber-guard",
   "metadata": {
    "execution": {
     "iopub.execute_input": "2021-02-12T19:53:15.652966Z",
     "iopub.status.busy": "2021-02-12T19:53:15.650674Z",
     "iopub.status.idle": "2021-02-12T19:53:17.262206Z",
     "shell.execute_reply": "2021-02-12T19:53:17.260642Z"
    },
    "papermill": {
     "duration": 1.637835,
     "end_time": "2021-02-12T19:53:17.262380",
     "exception": false,
     "start_time": "2021-02-12T19:53:15.624545",
     "status": "completed"
    },
    "tags": [],
    "vscode": {
     "languageId": "r"
    }
   },
   "outputs": [],
   "source": [
    "library(ggplot2)\n",
    "library(ggthemes)\n",
    "library(lubridate)\n",
    "library(dplyr)\n",
    "library(tidyr)\n",
    "library(tidyverse) # metapackage of all tidyverse packages\n",
    "library(DT)\n",
    "library(scales)"
   ]
  },
  {
   "cell_type": "markdown",
   "id": "seeing-claim",
   "metadata": {
    "papermill": {
     "duration": 0.026788,
     "end_time": "2021-02-12T19:53:17.315554",
     "exception": false,
     "start_time": "2021-02-12T19:53:17.288766",
     "status": "completed"
    },
    "tags": []
   },
   "source": [
    "### Creating vector of colors for the plots"
   ]
  },
  {
   "cell_type": "code",
   "execution_count": null,
   "id": "documentary-wholesale",
   "metadata": {
    "execution": {
     "iopub.execute_input": "2021-02-12T19:53:17.410659Z",
     "iopub.status.busy": "2021-02-12T19:53:17.370728Z",
     "iopub.status.idle": "2021-02-12T19:53:17.428499Z",
     "shell.execute_reply": "2021-02-12T19:53:17.427304Z"
    },
    "papermill": {
     "duration": 0.087532,
     "end_time": "2021-02-12T19:53:17.428682",
     "exception": false,
     "start_time": "2021-02-12T19:53:17.341150",
     "status": "completed"
    },
    "tags": [],
    "vscode": {
     "languageId": "r"
    }
   },
   "outputs": [],
   "source": [
    "colors = c(\"#CC1011\", \"#665555\", \"#05a399\", \"#cfcaca\", \"#f5e840\", \"#0683c9\", \"#e075b0\")\n",
    "colors"
   ]
  },
  {
   "cell_type": "markdown",
   "id": "ongoing-detector",
   "metadata": {
    "papermill": {
     "duration": 0.026724,
     "end_time": "2021-02-12T19:53:17.482015",
     "exception": false,
     "start_time": "2021-02-12T19:53:17.455291",
     "status": "completed"
    },
    "tags": []
   },
   "source": [
    "## Read the data from each time-frame"
   ]
  },
  {
   "cell_type": "code",
   "execution_count": null,
   "id": "outdoor-lesson",
   "metadata": {
    "execution": {
     "iopub.execute_input": "2021-02-12T19:53:17.540588Z",
     "iopub.status.busy": "2021-02-12T19:53:17.538957Z",
     "iopub.status.idle": "2021-02-12T19:53:30.946858Z",
     "shell.execute_reply": "2021-02-12T19:53:30.945688Z"
    },
    "papermill": {
     "duration": 13.438621,
     "end_time": "2021-02-12T19:53:30.947015",
     "exception": false,
     "start_time": "2021-02-12T19:53:17.508394",
     "status": "completed"
    },
    "tags": [],
    "vscode": {
     "languageId": "r"
    }
   },
   "outputs": [],
   "source": [
    "# Read the data for each month separately \n",
    "apr <- read.csv(\"../input/uberdataset/uber-raw-data-apr14.csv\")\n",
    "may <- read.csv(\"../input/uberdataset/uber-raw-data-may14.csv\")\n",
    "june <- read.csv(\"../input/uberdataset/uber-raw-data-jun14.csv\")\n",
    "july <- read.csv(\"../input/uberdataset/uber-raw-data-jul14.csv\")\n",
    "aug <- read.csv(\"../input/uberdataset/uber-raw-data-aug14.csv\")\n",
    "sept <- read.csv(\"../input/uberdataset/uber-raw-data-sep14.csv\")\n",
    "\n",
    "# Combine the data together \n",
    "data <- rbind(apr, may, june, july, aug, sept)\n",
    "cat(\"The dimensions of the data are:\", dim(data))"
   ]
  },
  {
   "cell_type": "code",
   "execution_count": null,
   "id": "equivalent-nevada",
   "metadata": {
    "execution": {
     "iopub.execute_input": "2021-02-12T19:53:31.007561Z",
     "iopub.status.busy": "2021-02-12T19:53:31.005976Z",
     "iopub.status.idle": "2021-02-12T19:53:31.032552Z",
     "shell.execute_reply": "2021-02-12T19:53:31.030971Z"
    },
    "papermill": {
     "duration": 0.058189,
     "end_time": "2021-02-12T19:53:31.032698",
     "exception": false,
     "start_time": "2021-02-12T19:53:30.974509",
     "status": "completed"
    },
    "tags": [],
    "vscode": {
     "languageId": "r"
    }
   },
   "outputs": [],
   "source": [
    "# Print the first 6 rows of the data\n",
    "head(data)"
   ]
  },
  {
   "cell_type": "markdown",
   "id": "local-machine",
   "metadata": {
    "papermill": {
     "duration": 0.027687,
     "end_time": "2021-02-12T19:53:31.087935",
     "exception": false,
     "start_time": "2021-02-12T19:53:31.060248",
     "status": "completed"
    },
    "tags": []
   },
   "source": [
    "The data contains the columns Date.Time which is a factor, Latitude and Longitudes which are double and Base which is factor. we will format the datetime into a more readable format using the Date Time conversion function."
   ]
  },
  {
   "cell_type": "code",
   "execution_count": null,
   "id": "advised-focus",
   "metadata": {
    "execution": {
     "iopub.execute_input": "2021-02-12T19:53:31.149445Z",
     "iopub.status.busy": "2021-02-12T19:53:31.147670Z",
     "iopub.status.idle": "2021-02-12T19:54:36.765980Z",
     "shell.execute_reply": "2021-02-12T19:54:36.763012Z"
    },
    "papermill": {
     "duration": 65.65074,
     "end_time": "2021-02-12T19:54:36.766276",
     "exception": false,
     "start_time": "2021-02-12T19:53:31.115536",
     "status": "completed"
    },
    "tags": [],
    "vscode": {
     "languageId": "r"
    }
   },
   "outputs": [],
   "source": [
    "data$Date.Time <- as.POSIXct(data$Date.Time, format=\"%m/%d/%Y %H:%M:%S\")\n",
    "data$Time <- format(as.POSIXct(data$Date.Time, format = \"%m/%d/%Y %H:%M:%S\"), format=\"%H:%M:%S\")\n",
    "data$Date.Time <- ymd_hms(data$Date.Time)"
   ]
  },
  {
   "cell_type": "code",
   "execution_count": null,
   "id": "tough-powell",
   "metadata": {
    "execution": {
     "iopub.execute_input": "2021-02-12T19:54:36.834343Z",
     "iopub.status.busy": "2021-02-12T19:54:36.832436Z",
     "iopub.status.idle": "2021-02-12T19:54:54.229161Z",
     "shell.execute_reply": "2021-02-12T19:54:54.227695Z"
    },
    "papermill": {
     "duration": 17.432224,
     "end_time": "2021-02-12T19:54:54.229321",
     "exception": false,
     "start_time": "2021-02-12T19:54:36.797097",
     "status": "completed"
    },
    "tags": [],
    "vscode": {
     "languageId": "r"
    }
   },
   "outputs": [],
   "source": [
    "# Create individual columns for month day and year\n",
    "data$day <- factor(day(data$Date.Time))\n",
    "data$month <- factor(month(data$Date.Time, label=TRUE))\n",
    "data$year <- factor(year(data$Date.Time))\n",
    "data$dayofweek <- factor(wday(data$Date.Time, label=TRUE))"
   ]
  },
  {
   "cell_type": "code",
   "execution_count": null,
   "id": "prerequisite-cotton",
   "metadata": {
    "execution": {
     "iopub.execute_input": "2021-02-12T19:54:54.290265Z",
     "iopub.status.busy": "2021-02-12T19:54:54.288888Z",
     "iopub.status.idle": "2021-02-12T19:55:10.191264Z",
     "shell.execute_reply": "2021-02-12T19:55:10.190121Z"
    },
    "papermill": {
     "duration": 15.933941,
     "end_time": "2021-02-12T19:55:10.191441",
     "exception": false,
     "start_time": "2021-02-12T19:54:54.257500",
     "status": "completed"
    },
    "tags": [],
    "vscode": {
     "languageId": "r"
    }
   },
   "outputs": [],
   "source": [
    "# Add Time variables as well \n",
    "data$second = factor(second(hms(data$Time)))\n",
    "data$minute = factor(minute(hms(data$Time)))\n",
    "data$hour = factor(hour(hms(data$Time)))"
   ]
  },
  {
   "cell_type": "code",
   "execution_count": null,
   "id": "infinite-station",
   "metadata": {
    "execution": {
     "iopub.execute_input": "2021-02-12T19:55:10.252075Z",
     "iopub.status.busy": "2021-02-12T19:55:10.250756Z",
     "iopub.status.idle": "2021-02-12T19:55:10.274979Z",
     "shell.execute_reply": "2021-02-12T19:55:10.273744Z"
    },
    "papermill": {
     "duration": 0.055729,
     "end_time": "2021-02-12T19:55:10.275146",
     "exception": false,
     "start_time": "2021-02-12T19:55:10.219417",
     "status": "completed"
    },
    "tags": [],
    "vscode": {
     "languageId": "r"
    }
   },
   "outputs": [],
   "source": [
    "# Look at the data\n",
    "head(data)"
   ]
  },
  {
   "cell_type": "markdown",
   "id": "private-preference",
   "metadata": {
    "papermill": {
     "duration": 0.028641,
     "end_time": "2021-02-12T19:55:10.332869",
     "exception": false,
     "start_time": "2021-02-12T19:55:10.304228",
     "status": "completed"
    },
    "tags": []
   },
   "source": [
    "## Data Visualisation\n",
    "\n",
    "### Plotting the trips by hours in a day"
   ]
  },
  {
   "cell_type": "code",
   "execution_count": null,
   "id": "accomplished-shelf",
   "metadata": {
    "execution": {
     "iopub.execute_input": "2021-02-12T19:55:10.395919Z",
     "iopub.status.busy": "2021-02-12T19:55:10.394251Z",
     "iopub.status.idle": "2021-02-12T19:55:10.638637Z",
     "shell.execute_reply": "2021-02-12T19:55:10.639169Z"
    },
    "papermill": {
     "duration": 0.277768,
     "end_time": "2021-02-12T19:55:10.639339",
     "exception": false,
     "start_time": "2021-02-12T19:55:10.361571",
     "status": "completed"
    },
    "tags": [],
    "vscode": {
     "languageId": "r"
    }
   },
   "outputs": [],
   "source": [
    "hourly_data <- data %>% \n",
    "                    group_by(hour) %>% \n",
    "                            dplyr::summarize(Total = n())\n",
    "\n",
    "# Shos data in a searchable js table\n",
    "datatable(hourly_data)"
   ]
  },
  {
   "cell_type": "code",
   "execution_count": null,
   "id": "coated-quest",
   "metadata": {
    "execution": {
     "iopub.execute_input": "2021-02-12T19:55:10.725345Z",
     "iopub.status.busy": "2021-02-12T19:55:10.723577Z",
     "iopub.status.idle": "2021-02-12T19:55:11.301576Z",
     "shell.execute_reply": "2021-02-12T19:55:11.300277Z"
    },
    "papermill": {
     "duration": 0.622446,
     "end_time": "2021-02-12T19:55:11.301723",
     "exception": false,
     "start_time": "2021-02-12T19:55:10.679277",
     "status": "completed"
    },
    "tags": [],
    "vscode": {
     "languageId": "r"
    }
   },
   "outputs": [],
   "source": [
    "# Plot the data by hour\n",
    "ggplot(hourly_data, aes(hour, Total)) + \n",
    "geom_bar(stat=\"identity\", \n",
    "         fill=\"steelblue\", \n",
    "         color=\"red\") + \n",
    "ggtitle(\"Trips Every Hour\", subtitle = \"aggregated today\") + \n",
    "theme(legend.position = \"none\", \n",
    "      plot.title = element_text(hjust = 0.5), \n",
    "      plot.subtitle = element_text(hjust = 0.5)) + \n",
    "scale_y_continuous(labels=comma)"
   ]
  },
  {
   "cell_type": "markdown",
   "id": "commercial-solomon",
   "metadata": {
    "papermill": {
     "duration": 0.040377,
     "end_time": "2021-02-12T19:55:11.388886",
     "exception": false,
     "start_time": "2021-02-12T19:55:11.348509",
     "status": "completed"
    },
    "tags": []
   },
   "source": [
    "#### Plotting trips by hour and month"
   ]
  },
  {
   "cell_type": "code",
   "execution_count": null,
   "id": "thick-architecture",
   "metadata": {
    "execution": {
     "iopub.execute_input": "2021-02-12T19:55:11.474789Z",
     "iopub.status.busy": "2021-02-12T19:55:11.474173Z",
     "iopub.status.idle": "2021-02-12T19:55:12.223283Z",
     "shell.execute_reply": "2021-02-12T19:55:12.222314Z"
    },
    "papermill": {
     "duration": 0.794173,
     "end_time": "2021-02-12T19:55:12.223641",
     "exception": false,
     "start_time": "2021-02-12T19:55:11.429468",
     "status": "completed"
    },
    "tags": [],
    "vscode": {
     "languageId": "r"
    }
   },
   "outputs": [],
   "source": [
    "# Aggregate the data by month and hour\n",
    "month_hour_data <- data %>% group_by(month, hour) %>%  dplyr::summarize(Total = n())\n",
    "\n",
    "ggplot(month_hour_data, aes(hour, Total, fill=month)) + \n",
    "geom_bar(stat = \"identity\") + \n",
    "ggtitle(\"Trips by Hour and Month\") + \n",
    "scale_y_continuous(labels = comma)"
   ]
  },
  {
   "cell_type": "markdown",
   "id": "occupied-granny",
   "metadata": {
    "papermill": {
     "duration": 0.041772,
     "end_time": "2021-02-12T19:55:12.307796",
     "exception": false,
     "start_time": "2021-02-12T19:55:12.266024",
     "status": "completed"
    },
    "tags": []
   },
   "source": [
    "The highest "
   ]
  },
  {
   "cell_type": "markdown",
   "id": "green-magnet",
   "metadata": {
    "papermill": {
     "duration": 0.041976,
     "end_time": "2021-02-12T19:55:12.392407",
     "exception": false,
     "start_time": "2021-02-12T19:55:12.350431",
     "status": "completed"
    },
    "tags": []
   },
   "source": [
    "## Plotting data by trips during every day of the month"
   ]
  },
  {
   "cell_type": "code",
   "execution_count": null,
   "id": "electrical-therapist",
   "metadata": {
    "execution": {
     "iopub.execute_input": "2021-02-12T19:55:12.482188Z",
     "iopub.status.busy": "2021-02-12T19:55:12.480713Z",
     "iopub.status.idle": "2021-02-12T19:55:12.593823Z",
     "shell.execute_reply": "2021-02-12T19:55:12.592359Z"
    },
    "papermill": {
     "duration": 0.159446,
     "end_time": "2021-02-12T19:55:12.593969",
     "exception": false,
     "start_time": "2021-02-12T19:55:12.434523",
     "status": "completed"
    },
    "tags": [],
    "vscode": {
     "languageId": "r"
    }
   },
   "outputs": [],
   "source": [
    "# Aggregate data by day of the month \n",
    "day_data <- data %>% group_by(day) %>% dplyr::summarize(Trips = n())\n",
    "day_data"
   ]
  },
  {
   "cell_type": "code",
   "execution_count": null,
   "id": "aquatic-tract",
   "metadata": {
    "execution": {
     "iopub.execute_input": "2021-02-12T19:55:12.689421Z",
     "iopub.status.busy": "2021-02-12T19:55:12.688457Z",
     "iopub.status.idle": "2021-02-12T19:55:12.944945Z",
     "shell.execute_reply": "2021-02-12T19:55:12.943800Z"
    },
    "papermill": {
     "duration": 0.307428,
     "end_time": "2021-02-12T19:55:12.945114",
     "exception": false,
     "start_time": "2021-02-12T19:55:12.637686",
     "status": "completed"
    },
    "tags": [],
    "vscode": {
     "languageId": "r"
    }
   },
   "outputs": [],
   "source": [
    "# Plot the data for the day\n",
    "ggplot(day_data, aes(day, Trips)) + \n",
    "geom_bar(stat = \"identity\", fill = \"steelblue\") +\n",
    "ggtitle(\"Trips by day of the month\") + \n",
    "theme(legend.position = \"none\") + \n",
    "scale_y_continuous(labels = comma)"
   ]
  },
  {
   "cell_type": "code",
   "execution_count": null,
   "id": "competitive-music",
   "metadata": {
    "execution": {
     "iopub.execute_input": "2021-02-12T19:55:13.039302Z",
     "iopub.status.busy": "2021-02-12T19:55:13.037456Z",
     "iopub.status.idle": "2021-02-12T19:55:13.213981Z",
     "shell.execute_reply": "2021-02-12T19:55:13.212571Z"
    },
    "papermill": {
     "duration": 0.225084,
     "end_time": "2021-02-12T19:55:13.214162",
     "exception": false,
     "start_time": "2021-02-12T19:55:12.989078",
     "status": "completed"
    },
    "tags": [],
    "vscode": {
     "languageId": "r"
    }
   },
   "outputs": [],
   "source": [
    "# Collect data by day of the week and month\n",
    "\n",
    "day_month_data <- data %>% group_by(dayofweek, month) %>% dplyr::summarize(Trips = n())\n",
    "day_month_data"
   ]
  },
  {
   "cell_type": "code",
   "execution_count": null,
   "id": "considered-killing",
   "metadata": {
    "execution": {
     "iopub.execute_input": "2021-02-12T19:55:13.311036Z",
     "iopub.status.busy": "2021-02-12T19:55:13.309206Z",
     "iopub.status.idle": "2021-02-12T19:55:13.855595Z",
     "shell.execute_reply": "2021-02-12T19:55:13.854707Z"
    },
    "papermill": {
     "duration": 0.596186,
     "end_time": "2021-02-12T19:55:13.855734",
     "exception": false,
     "start_time": "2021-02-12T19:55:13.259548",
     "status": "completed"
    },
    "tags": [],
    "vscode": {
     "languageId": "r"
    }
   },
   "outputs": [],
   "source": [
    "# Plot the above data\n",
    "ggplot(day_month_data, aes(dayofweek, Trips, fill = month)) + \n",
    "geom_bar(stat = \"identity\", aes(fill = month), position = \"dodge\") + \n",
    "ggtitle(\"Trias by Day and Month\") + \n",
    "scale_y_continuous(labels = comma) + \n",
    "scale_fill_manual(values = colors)"
   ]
  },
  {
   "cell_type": "markdown",
   "id": "considerable-chorus",
   "metadata": {
    "papermill": {
     "duration": 0.054196,
     "end_time": "2021-02-12T19:55:13.963898",
     "exception": false,
     "start_time": "2021-02-12T19:55:13.909702",
     "status": "completed"
    },
    "tags": []
   },
   "source": [
    "## Number of Trips place during months in a year"
   ]
  },
  {
   "cell_type": "code",
   "execution_count": null,
   "id": "engaging-shade",
   "metadata": {
    "execution": {
     "iopub.execute_input": "2021-02-12T19:55:14.066434Z",
     "iopub.status.busy": "2021-02-12T19:55:14.064678Z",
     "iopub.status.idle": "2021-02-12T19:55:14.167436Z",
     "shell.execute_reply": "2021-02-12T19:55:14.165826Z"
    },
    "papermill": {
     "duration": 0.153941,
     "end_time": "2021-02-12T19:55:14.167590",
     "exception": false,
     "start_time": "2021-02-12T19:55:14.013649",
     "status": "completed"
    },
    "tags": [],
    "vscode": {
     "languageId": "r"
    }
   },
   "outputs": [],
   "source": [
    "month_data <- data %>% group_by(month) %>% dplyr::summarize(Total = n())\n",
    "\n",
    "month_data"
   ]
  },
  {
   "cell_type": "code",
   "execution_count": null,
   "id": "amino-field",
   "metadata": {
    "execution": {
     "iopub.execute_input": "2021-02-12T19:55:14.267169Z",
     "iopub.status.busy": "2021-02-12T19:55:14.265719Z",
     "iopub.status.idle": "2021-02-12T19:55:14.506908Z",
     "shell.execute_reply": "2021-02-12T19:55:14.506233Z"
    },
    "papermill": {
     "duration": 0.292377,
     "end_time": "2021-02-12T19:55:14.507079",
     "exception": false,
     "start_time": "2021-02-12T19:55:14.214702",
     "status": "completed"
    },
    "tags": [],
    "vscode": {
     "languageId": "r"
    }
   },
   "outputs": [],
   "source": [
    "ggplot(month_data, aes(month, Total, fill = month)) + \n",
    "geom_bar(stat = \"Identity\") + \n",
    "ggtitle(\"Trips in a month\") + \n",
    "theme(legend.position = \"none\") + \n",
    "scale_y_continuous(labels = comma) + \n",
    "scale_fill_manual(values = colors)"
   ]
  },
  {
   "cell_type": "markdown",
   "id": "formal-assumption",
   "metadata": {
    "papermill": {
     "duration": 0.048521,
     "end_time": "2021-02-12T19:55:14.604919",
     "exception": false,
     "start_time": "2021-02-12T19:55:14.556398",
     "status": "completed"
    },
    "tags": []
   },
   "source": [
    "## Heatmap visualization of day, hour and month\n",
    "\n",
    "#### Heatmap by Hour and Day"
   ]
  },
  {
   "cell_type": "code",
   "execution_count": null,
   "id": "adapted-georgia",
   "metadata": {
    "execution": {
     "iopub.execute_input": "2021-02-12T19:55:14.708844Z",
     "iopub.status.busy": "2021-02-12T19:55:14.707435Z",
     "iopub.status.idle": "2021-02-12T19:55:14.976680Z",
     "shell.execute_reply": "2021-02-12T19:55:14.977208Z"
    },
    "papermill": {
     "duration": 0.323672,
     "end_time": "2021-02-12T19:55:14.977391",
     "exception": false,
     "start_time": "2021-02-12T19:55:14.653719",
     "status": "completed"
    },
    "tags": [],
    "vscode": {
     "languageId": "r"
    }
   },
   "outputs": [],
   "source": [
    "day_hour_data <- data %>% group_by(day, hour) %>% dplyr::summarize(Total = n())\n",
    "datatable(day_hour_data)"
   ]
  },
  {
   "cell_type": "code",
   "execution_count": null,
   "id": "classical-bankruptcy",
   "metadata": {
    "execution": {
     "iopub.execute_input": "2021-02-12T19:55:15.102931Z",
     "iopub.status.busy": "2021-02-12T19:55:15.101660Z",
     "iopub.status.idle": "2021-02-12T19:55:15.435636Z",
     "shell.execute_reply": "2021-02-12T19:55:15.435005Z"
    },
    "papermill": {
     "duration": 0.398518,
     "end_time": "2021-02-12T19:55:15.435771",
     "exception": false,
     "start_time": "2021-02-12T19:55:15.037253",
     "status": "completed"
    },
    "tags": [],
    "vscode": {
     "languageId": "r"
    }
   },
   "outputs": [],
   "source": [
    "# Plot a heatmap \n",
    "\n",
    "ggplot(day_hour_data, aes(day, hour, fill = Total)) + \n",
    "geom_tile(color = \"white\") + \n",
    "ggtitle(\"Heat Map by Hour and Day\")"
   ]
  },
  {
   "cell_type": "markdown",
   "id": "hired-policy",
   "metadata": {
    "papermill": {
     "duration": 0.06151,
     "end_time": "2021-02-12T19:55:15.559163",
     "exception": false,
     "start_time": "2021-02-12T19:55:15.497653",
     "status": "completed"
    },
    "tags": []
   },
   "source": [
    "#### Plot Heatmap by day and month"
   ]
  },
  {
   "cell_type": "code",
   "execution_count": null,
   "id": "naughty-forum",
   "metadata": {
    "execution": {
     "iopub.execute_input": "2021-02-12T19:55:15.687756Z",
     "iopub.status.busy": "2021-02-12T19:55:15.685849Z",
     "iopub.status.idle": "2021-02-12T19:55:15.896988Z",
     "shell.execute_reply": "2021-02-12T19:55:15.894983Z"
    },
    "papermill": {
     "duration": 0.277331,
     "end_time": "2021-02-12T19:55:15.897179",
     "exception": false,
     "start_time": "2021-02-12T19:55:15.619848",
     "status": "completed"
    },
    "tags": [],
    "vscode": {
     "languageId": "r"
    }
   },
   "outputs": [],
   "source": [
    "# Collect data by month and day\n",
    "\n",
    "month_day_data <- data %>% group_by(month, day) %>% dplyr::summarize(Trips = n())\n",
    "month_day_data"
   ]
  },
  {
   "cell_type": "code",
   "execution_count": null,
   "id": "lined-perception",
   "metadata": {
    "execution": {
     "iopub.execute_input": "2021-02-12T19:55:16.027695Z",
     "iopub.status.busy": "2021-02-12T19:55:16.026169Z",
     "iopub.status.idle": "2021-02-12T19:55:16.331119Z",
     "shell.execute_reply": "2021-02-12T19:55:16.330396Z"
    },
    "papermill": {
     "duration": 0.370864,
     "end_time": "2021-02-12T19:55:16.331255",
     "exception": false,
     "start_time": "2021-02-12T19:55:15.960391",
     "status": "completed"
    },
    "tags": [],
    "vscode": {
     "languageId": "r"
    }
   },
   "outputs": [],
   "source": [
    "# Plot a heatmap \n",
    "\n",
    "ggplot(month_day_data, aes(day, month, fill = Trips)) + \n",
    "geom_tile(color = \"white\") + \n",
    "ggtitle(\"Heat Map by Month and Day\")"
   ]
  },
  {
   "cell_type": "code",
   "execution_count": null,
   "id": "certified-senate",
   "metadata": {
    "execution": {
     "iopub.execute_input": "2021-02-12T19:55:16.464892Z",
     "iopub.status.busy": "2021-02-12T19:55:16.463465Z",
     "iopub.status.idle": "2021-02-12T19:55:16.765034Z",
     "shell.execute_reply": "2021-02-12T19:55:16.764083Z"
    },
    "papermill": {
     "duration": 0.368943,
     "end_time": "2021-02-12T19:55:16.765194",
     "exception": false,
     "start_time": "2021-02-12T19:55:16.396251",
     "status": "completed"
    },
    "tags": [],
    "vscode": {
     "languageId": "r"
    }
   },
   "outputs": [],
   "source": [
    "# Plot a heatmap by day of the week and month\n",
    "\n",
    "ggplot(day_month_data, aes(dayofweek, month, fill = Trips)) + \n",
    "geom_tile(color = \"white\") + \n",
    "ggtitle(\"Heat Map by Month and Day\")"
   ]
  },
  {
   "cell_type": "markdown",
   "id": "minute-shannon",
   "metadata": {
    "papermill": {
     "duration": 0.065919,
     "end_time": "2021-02-12T19:55:16.896165",
     "exception": false,
     "start_time": "2021-02-12T19:55:16.830246",
     "status": "completed"
    },
    "tags": []
   },
   "source": [
    "## Creating a map visualization of rides in NYC"
   ]
  },
  {
   "cell_type": "code",
   "execution_count": null,
   "id": "attempted-netherlands",
   "metadata": {
    "execution": {
     "iopub.execute_input": "2021-02-12T19:55:17.032195Z",
     "iopub.status.busy": "2021-02-12T19:55:17.030864Z",
     "iopub.status.idle": "2021-02-12T19:55:17.048387Z",
     "shell.execute_reply": "2021-02-12T19:55:17.047367Z"
    },
    "papermill": {
     "duration": 0.086836,
     "end_time": "2021-02-12T19:55:17.048529",
     "exception": false,
     "start_time": "2021-02-12T19:55:16.961693",
     "status": "completed"
    },
    "tags": [],
    "vscode": {
     "languageId": "r"
    }
   },
   "outputs": [],
   "source": [
    "# Set Map Constants\n",
    "min_lat <- 40 \n",
    "max_lat <- 40.91\n",
    "min_long <- -74.15\n",
    "max_long <- -73.7004"
   ]
  },
  {
   "cell_type": "code",
   "execution_count": null,
   "id": "manual-russian",
   "metadata": {
    "execution": {
     "iopub.execute_input": "2021-02-12T19:55:17.184514Z",
     "iopub.status.busy": "2021-02-12T19:55:17.183237Z",
     "iopub.status.idle": "2021-02-12T19:58:26.901463Z",
     "shell.execute_reply": "2021-02-12T19:58:26.901967Z"
    },
    "papermill": {
     "duration": 189.788544,
     "end_time": "2021-02-12T19:58:26.902176",
     "exception": false,
     "start_time": "2021-02-12T19:55:17.113632",
     "status": "completed"
    },
    "tags": [],
    "vscode": {
     "languageId": "r"
    }
   },
   "outputs": [],
   "source": [
    "ggplot(data, aes(x=Lon, y=Lat)) +\n",
    "  geom_point(size=1, color = \"blue\") +\n",
    "     scale_x_continuous(limits=c(min_long, max_long)) +\n",
    "      scale_y_continuous(limits=c(min_lat, max_lat)) +\n",
    "        theme_map() +\n",
    "           ggtitle(\"NYC MAP BASED ON UBER RIDES DURING 2014 (APR-SEP)\")"
   ]
  },
  {
   "cell_type": "code",
   "execution_count": null,
   "id": "motivated-glance",
   "metadata": {
    "papermill": {
     "duration": 0.069754,
     "end_time": "2021-02-12T19:58:27.042025",
     "exception": false,
     "start_time": "2021-02-12T19:58:26.972271",
     "status": "completed"
    },
    "tags": [],
    "vscode": {
     "languageId": "r"
    }
   },
   "outputs": [],
   "source": []
  }
 ],
 "metadata": {
  "kernelspec": {
   "display_name": "R",
   "language": "R",
   "name": "ir"
  },
  "language_info": {
   "codemirror_mode": "r",
   "file_extension": ".r",
   "mimetype": "text/x-r-source",
   "name": "R",
   "pygments_lexer": "r",
   "version": "3.6.3"
  },
  "papermill": {
   "default_parameters": {},
   "duration": 314.533804,
   "end_time": "2021-02-12T19:58:27.322723",
   "environment_variables": {},
   "exception": null,
   "input_path": "__notebook__.ipynb",
   "output_path": "__notebook__.ipynb",
   "parameters": {},
   "start_time": "2021-02-12T19:53:12.788919",
   "version": "2.3.2"
  }
 },
 "nbformat": 4,
 "nbformat_minor": 5
}
